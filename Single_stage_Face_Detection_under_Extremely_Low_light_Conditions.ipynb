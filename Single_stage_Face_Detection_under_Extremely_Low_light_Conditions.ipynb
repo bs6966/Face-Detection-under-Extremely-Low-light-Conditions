{
  "cells": [
    {
      "cell_type": "code",
      "execution_count": 12,
      "metadata": {
        "colab": {
          "base_uri": "https://localhost:8080/",
          "height": 1000
        },
        "id": "hK4DrwIjO2Gg",
        "outputId": "30e94e2d-b2b6-45e5-aeac-e7948b59bc00"
      },
      "outputs": [
        {
          "name": "stderr",
          "output_type": "stream",
          "text": [
            "C:\\Users\\Sabis\\AppData\\Local\\Temp\\ipykernel_14180\\3918077880.py:15: RuntimeWarning: overflow encountered in expm1\n",
            "  enhanced_image += np.expm1(restored_image)\n",
            "C:\\Users\\Sabis\\AppData\\Local\\Temp\\ipykernel_14180\\3918077880.py:15: RuntimeWarning: overflow encountered in add\n",
            "  enhanced_image += np.expm1(restored_image)\n"
          ]
        }
      ],
      "source": [
        "import cv2\n",
        "import numpy as np\n",
        "\n",
        "def msrcr_enhancement(image, sigma_list=(15, 80, 250)):\n",
        "\n",
        "    image = image.astype(np.float32)\n",
        "    log_image = np.log1p(image)\n",
        "    enhanced_image = np.zeros_like(image)\n",
        "\n",
        "    for sigma in sigma_list:\n",
        "        blurred_image = cv2.GaussianBlur(log_image, (0, 0), sigma)\n",
        "        difference_image = log_image - blurred_image\n",
        "        scaled_image = difference_image * (128.0 / np.max(difference_image))\n",
        "        restored_image = log_image + scaled_image\n",
        "        enhanced_image += np.expm1(restored_image)\n",
        "\n",
        "    enhanced_image = np.clip(enhanced_image, 0, 255).astype(np.uint8)\n",
        "    return enhanced_image\n",
        "\n",
        "def soft_nms(boxes, scores, threshold=0.3, sigma=0.5):\n",
        "    selected_boxes = []\n",
        "    selected_scores = []\n",
        "\n",
        "    while boxes:\n",
        "        max_score_index = np.argmax(scores)\n",
        "        max_score_box = boxes[max_score_index]\n",
        "        max_score = scores[max_score_index]\n",
        "\n",
        "        selected_boxes.append(max_score_box)\n",
        "        selected_scores.append(max_score)\n",
        "\n",
        "        del boxes[max_score_index]\n",
        "        del scores[max_score_index]\n",
        "\n",
        "        for i in range(len(boxes)):\n",
        "            iou = calculate_iou(max_score_box, boxes[i])\n",
        "            if iou > threshold:\n",
        "                scores[i] *= np.exp(-np.square(iou) / sigma)\n",
        "\n",
        "    return selected_boxes, selected_scores\n",
        "\n",
        "def calculate_iou(box1, box2):\n",
        "    x1 = max(box1[0], box2[0])\n",
        "    y1 = max(box1[1], box2[1])\n",
        "    x2 = min(box1[2], box2[2])\n",
        "    y2 = min(box1[3], box2[3])\n",
        "\n",
        "    intersection = max(0, x2 - x1 + 1) * max(0, y2 - y1 + 1)\n",
        "    area1 = (box1[2] - box1[0] + 1) * (box1[3] - box1[1] + 1)\n",
        "    area2 = (box2[2] - box2[0] + 1) * (box2[3] - box2[1] + 1)\n",
        "    union = area1 + area2 - intersection\n",
        "\n",
        "    iou = intersection / union\n",
        "    return iou\n",
        "\n",
        "def detect_faces(image_path):\n",
        "    face_cascade = cv2.CascadeClassifier(cv2.data.haarcascades + 'haarcascade_frontalface_default.xml')\n",
        "\n",
        "    try:\n",
        "        image = cv2.imread(image_path)\n",
        "        if image is None:\n",
        "            print(\"Error: Unable to load image.\")\n",
        "            return\n",
        "    except Exception as e:\n",
        "        print(\"Error:\", e)\n",
        "        return\n",
        "\n",
        "    enhanced_image = msrcr_enhancement(image)\n",
        "    gray = cv2.cvtColor(enhanced_image, cv2.COLOR_BGR2GRAY)\n",
        "\n",
        "    faces = face_cascade.detectMultiScale(gray, scaleFactor=1.1, minNeighbors=5, minSize=(30, 30))\n",
        "\n",
        "    boxes = [(x, y, x+w, y+h) for (x, y, w, h) in faces]\n",
        "    scores = [1.0] * len(boxes)\n",
        "\n",
        "    selected_boxes, selected_scores = soft_nms(boxes, scores)\n",
        "\n",
        "    for (x, y, x2, y2), score in zip(selected_boxes, selected_scores):\n",
        "        cv2.rectangle(enhanced_image, (x, y), (x2, y2), (255, 0, 0), 2)\n",
        "\n",
        "    cv2.imshow(\"Original Image\", image)\n",
        "    cv2.imshow(\"Enhanced Image\", enhanced_image)\n",
        "    cv2.waitKey(0)\n",
        "    cv2.destroyAllWindows()\n",
        "\n",
        "# Example usage\n",
        "image_path = './dataset/5.png'  # Update with your image path\n",
        "detect_faces(image_path)\n"
      ]
    }
  ],
  "metadata": {
    "colab": {
      "provenance": []
    },
    "kernelspec": {
      "display_name": "Python 3",
      "name": "python3"
    },
    "language_info": {
      "codemirror_mode": {
        "name": "ipython",
        "version": 3
      },
      "file_extension": ".py",
      "mimetype": "text/x-python",
      "name": "python",
      "nbconvert_exporter": "python",
      "pygments_lexer": "ipython3",
      "version": "3.11.1"
    }
  },
  "nbformat": 4,
  "nbformat_minor": 0
}
